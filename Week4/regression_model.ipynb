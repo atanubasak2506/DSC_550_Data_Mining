{
 "cells": [
  {
   "cell_type": "code",
   "execution_count": 1,
   "id": "cd5c9d89",
   "metadata": {},
   "outputs": [],
   "source": [
    "import pandas as pd\n",
    "import numpy as np"
   ]
  },
  {
   "cell_type": "code",
   "execution_count": 2,
   "id": "aae625fe",
   "metadata": {},
   "outputs": [
    {
     "data": {
      "text/html": [
       "<div>\n",
       "<style scoped>\n",
       "    .dataframe tbody tr th:only-of-type {\n",
       "        vertical-align: middle;\n",
       "    }\n",
       "\n",
       "    .dataframe tbody tr th {\n",
       "        vertical-align: top;\n",
       "    }\n",
       "\n",
       "    .dataframe thead th {\n",
       "        text-align: right;\n",
       "    }\n",
       "</style>\n",
       "<table border=\"1\" class=\"dataframe\">\n",
       "  <thead>\n",
       "    <tr style=\"text-align: right;\">\n",
       "      <th></th>\n",
       "      <th>mpg</th>\n",
       "      <th>cylinders</th>\n",
       "      <th>displacement</th>\n",
       "      <th>horsepower</th>\n",
       "      <th>weight</th>\n",
       "      <th>acceleration</th>\n",
       "      <th>model year</th>\n",
       "      <th>origin</th>\n",
       "      <th>car name</th>\n",
       "    </tr>\n",
       "  </thead>\n",
       "  <tbody>\n",
       "    <tr>\n",
       "      <th>0</th>\n",
       "      <td>18.0</td>\n",
       "      <td>8</td>\n",
       "      <td>307.0</td>\n",
       "      <td>130</td>\n",
       "      <td>3504</td>\n",
       "      <td>12.0</td>\n",
       "      <td>70</td>\n",
       "      <td>1</td>\n",
       "      <td>chevrolet chevelle malibu</td>\n",
       "    </tr>\n",
       "    <tr>\n",
       "      <th>1</th>\n",
       "      <td>15.0</td>\n",
       "      <td>8</td>\n",
       "      <td>350.0</td>\n",
       "      <td>165</td>\n",
       "      <td>3693</td>\n",
       "      <td>11.5</td>\n",
       "      <td>70</td>\n",
       "      <td>1</td>\n",
       "      <td>buick skylark 320</td>\n",
       "    </tr>\n",
       "    <tr>\n",
       "      <th>2</th>\n",
       "      <td>18.0</td>\n",
       "      <td>8</td>\n",
       "      <td>318.0</td>\n",
       "      <td>150</td>\n",
       "      <td>3436</td>\n",
       "      <td>11.0</td>\n",
       "      <td>70</td>\n",
       "      <td>1</td>\n",
       "      <td>plymouth satellite</td>\n",
       "    </tr>\n",
       "    <tr>\n",
       "      <th>3</th>\n",
       "      <td>16.0</td>\n",
       "      <td>8</td>\n",
       "      <td>304.0</td>\n",
       "      <td>150</td>\n",
       "      <td>3433</td>\n",
       "      <td>12.0</td>\n",
       "      <td>70</td>\n",
       "      <td>1</td>\n",
       "      <td>amc rebel sst</td>\n",
       "    </tr>\n",
       "    <tr>\n",
       "      <th>4</th>\n",
       "      <td>17.0</td>\n",
       "      <td>8</td>\n",
       "      <td>302.0</td>\n",
       "      <td>140</td>\n",
       "      <td>3449</td>\n",
       "      <td>10.5</td>\n",
       "      <td>70</td>\n",
       "      <td>1</td>\n",
       "      <td>ford torino</td>\n",
       "    </tr>\n",
       "  </tbody>\n",
       "</table>\n",
       "</div>"
      ],
      "text/plain": [
       "    mpg  cylinders  displacement horsepower  weight  acceleration  model year  \\\n",
       "0  18.0          8         307.0        130    3504          12.0          70   \n",
       "1  15.0          8         350.0        165    3693          11.5          70   \n",
       "2  18.0          8         318.0        150    3436          11.0          70   \n",
       "3  16.0          8         304.0        150    3433          12.0          70   \n",
       "4  17.0          8         302.0        140    3449          10.5          70   \n",
       "\n",
       "   origin                   car name  \n",
       "0       1  chevrolet chevelle malibu  \n",
       "1       1          buick skylark 320  \n",
       "2       1         plymouth satellite  \n",
       "3       1              amc rebel sst  \n",
       "4       1                ford torino  "
      ]
     },
     "execution_count": 2,
     "metadata": {},
     "output_type": "execute_result"
    }
   ],
   "source": [
    "auto = pd.read_csv('auto-mpg.csv')\n",
    "auto.head()"
   ]
  },
  {
   "cell_type": "code",
   "execution_count": 3,
   "id": "facea8a4",
   "metadata": {},
   "outputs": [
    {
     "data": {
      "text/plain": [
       "mpg             float64\n",
       "cylinders         int64\n",
       "displacement    float64\n",
       "horsepower       object\n",
       "weight            int64\n",
       "acceleration    float64\n",
       "model year        int64\n",
       "origin            int64\n",
       "car name         object\n",
       "dtype: object"
      ]
     },
     "execution_count": 3,
     "metadata": {},
     "output_type": "execute_result"
    }
   ],
   "source": [
    "auto.dtypes"
   ]
  },
  {
   "cell_type": "code",
   "execution_count": 4,
   "id": "0c10bedc",
   "metadata": {},
   "outputs": [
    {
     "data": {
      "text/html": [
       "<div>\n",
       "<style scoped>\n",
       "    .dataframe tbody tr th:only-of-type {\n",
       "        vertical-align: middle;\n",
       "    }\n",
       "\n",
       "    .dataframe tbody tr th {\n",
       "        vertical-align: top;\n",
       "    }\n",
       "\n",
       "    .dataframe thead th {\n",
       "        text-align: right;\n",
       "    }\n",
       "</style>\n",
       "<table border=\"1\" class=\"dataframe\">\n",
       "  <thead>\n",
       "    <tr style=\"text-align: right;\">\n",
       "      <th></th>\n",
       "      <th>mpg</th>\n",
       "      <th>cylinders</th>\n",
       "      <th>displacement</th>\n",
       "      <th>horsepower</th>\n",
       "      <th>weight</th>\n",
       "      <th>acceleration</th>\n",
       "      <th>model year</th>\n",
       "      <th>origin</th>\n",
       "    </tr>\n",
       "  </thead>\n",
       "  <tbody>\n",
       "    <tr>\n",
       "      <th>0</th>\n",
       "      <td>18.0</td>\n",
       "      <td>8</td>\n",
       "      <td>307.0</td>\n",
       "      <td>130</td>\n",
       "      <td>3504</td>\n",
       "      <td>12.0</td>\n",
       "      <td>70</td>\n",
       "      <td>1</td>\n",
       "    </tr>\n",
       "    <tr>\n",
       "      <th>1</th>\n",
       "      <td>15.0</td>\n",
       "      <td>8</td>\n",
       "      <td>350.0</td>\n",
       "      <td>165</td>\n",
       "      <td>3693</td>\n",
       "      <td>11.5</td>\n",
       "      <td>70</td>\n",
       "      <td>1</td>\n",
       "    </tr>\n",
       "    <tr>\n",
       "      <th>2</th>\n",
       "      <td>18.0</td>\n",
       "      <td>8</td>\n",
       "      <td>318.0</td>\n",
       "      <td>150</td>\n",
       "      <td>3436</td>\n",
       "      <td>11.0</td>\n",
       "      <td>70</td>\n",
       "      <td>1</td>\n",
       "    </tr>\n",
       "    <tr>\n",
       "      <th>3</th>\n",
       "      <td>16.0</td>\n",
       "      <td>8</td>\n",
       "      <td>304.0</td>\n",
       "      <td>150</td>\n",
       "      <td>3433</td>\n",
       "      <td>12.0</td>\n",
       "      <td>70</td>\n",
       "      <td>1</td>\n",
       "    </tr>\n",
       "    <tr>\n",
       "      <th>4</th>\n",
       "      <td>17.0</td>\n",
       "      <td>8</td>\n",
       "      <td>302.0</td>\n",
       "      <td>140</td>\n",
       "      <td>3449</td>\n",
       "      <td>10.5</td>\n",
       "      <td>70</td>\n",
       "      <td>1</td>\n",
       "    </tr>\n",
       "  </tbody>\n",
       "</table>\n",
       "</div>"
      ],
      "text/plain": [
       "    mpg  cylinders  displacement horsepower  weight  acceleration  model year  \\\n",
       "0  18.0          8         307.0        130    3504          12.0          70   \n",
       "1  15.0          8         350.0        165    3693          11.5          70   \n",
       "2  18.0          8         318.0        150    3436          11.0          70   \n",
       "3  16.0          8         304.0        150    3433          12.0          70   \n",
       "4  17.0          8         302.0        140    3449          10.5          70   \n",
       "\n",
       "   origin  \n",
       "0       1  \n",
       "1       1  \n",
       "2       1  \n",
       "3       1  \n",
       "4       1  "
      ]
     },
     "execution_count": 4,
     "metadata": {},
     "output_type": "execute_result"
    }
   ],
   "source": [
    "# Data preparation for the model\n",
    "#Horsepower and car name fiels are string datatypes which is showing as object in pandas dataframe.\n",
    "# removing the car name column\n",
    "auto1 = auto.drop([\"car name\"], axis=1)\n",
    "auto1.head()"
   ]
  },
  {
   "cell_type": "code",
   "execution_count": 5,
   "id": "7e1e2170",
   "metadata": {},
   "outputs": [
    {
     "data": {
      "text/plain": [
       "mpg             0\n",
       "cylinders       0\n",
       "displacement    0\n",
       "horsepower      0\n",
       "weight          0\n",
       "acceleration    0\n",
       "model year      0\n",
       "origin          0\n",
       "dtype: int64"
      ]
     },
     "execution_count": 5,
     "metadata": {},
     "output_type": "execute_result"
    }
   ],
   "source": [
    "#Lets check the number of missing values per column\n",
    "auto1.isna().sum()"
   ]
  },
  {
   "cell_type": "code",
   "execution_count": 6,
   "id": "857b92a6",
   "metadata": {},
   "outputs": [
    {
     "data": {
      "text/plain": [
       "(398, 8)"
      ]
     },
     "execution_count": 6,
     "metadata": {},
     "output_type": "execute_result"
    }
   ],
   "source": [
    "auto1.shape"
   ]
  },
  {
   "cell_type": "code",
   "execution_count": 7,
   "id": "2183e731",
   "metadata": {},
   "outputs": [
    {
     "data": {
      "text/plain": [
       "['?', '?', '?', '?', '?', '?']"
      ]
     },
     "execution_count": 7,
     "metadata": {},
     "output_type": "execute_result"
    }
   ],
   "source": [
    "# Few of the values in horsepower column is missing and its '?', so this colum in \n",
    "# showing a object we can repleace this with the mean value\n",
    "auto1.loc[~auto1['horsepower'].str.isdigit(), 'horsepower'].tolist()"
   ]
  },
  {
   "cell_type": "code",
   "execution_count": 8,
   "id": "241b5f76",
   "metadata": {},
   "outputs": [
    {
     "data": {
      "text/plain": [
       "31     95\n",
       "32      ?\n",
       "33    100\n",
       "Name: horsepower, dtype: object"
      ]
     },
     "execution_count": 8,
     "metadata": {},
     "output_type": "execute_result"
    }
   ],
   "source": [
    "auto1['horsepower'].iloc[[31,32,33]]"
   ]
  },
  {
   "cell_type": "code",
   "execution_count": 9,
   "id": "a9227247",
   "metadata": {},
   "outputs": [],
   "source": [
    "auto1['horsepower'] = auto1['horsepower'].replace('?', np.nan).astype('float64')"
   ]
  },
  {
   "cell_type": "code",
   "execution_count": 10,
   "id": "dc8781ac",
   "metadata": {},
   "outputs": [
    {
     "data": {
      "text/html": [
       "<div>\n",
       "<style scoped>\n",
       "    .dataframe tbody tr th:only-of-type {\n",
       "        vertical-align: middle;\n",
       "    }\n",
       "\n",
       "    .dataframe tbody tr th {\n",
       "        vertical-align: top;\n",
       "    }\n",
       "\n",
       "    .dataframe thead th {\n",
       "        text-align: right;\n",
       "    }\n",
       "</style>\n",
       "<table border=\"1\" class=\"dataframe\">\n",
       "  <thead>\n",
       "    <tr style=\"text-align: right;\">\n",
       "      <th></th>\n",
       "      <th>mpg</th>\n",
       "      <th>cylinders</th>\n",
       "      <th>displacement</th>\n",
       "      <th>horsepower</th>\n",
       "      <th>weight</th>\n",
       "      <th>acceleration</th>\n",
       "      <th>model year</th>\n",
       "      <th>origin</th>\n",
       "    </tr>\n",
       "  </thead>\n",
       "  <tbody>\n",
       "    <tr>\n",
       "      <th>31</th>\n",
       "      <td>25.0</td>\n",
       "      <td>4</td>\n",
       "      <td>113.0</td>\n",
       "      <td>95.0</td>\n",
       "      <td>2228</td>\n",
       "      <td>14.0</td>\n",
       "      <td>71</td>\n",
       "      <td>3</td>\n",
       "    </tr>\n",
       "    <tr>\n",
       "      <th>32</th>\n",
       "      <td>25.0</td>\n",
       "      <td>4</td>\n",
       "      <td>98.0</td>\n",
       "      <td>NaN</td>\n",
       "      <td>2046</td>\n",
       "      <td>19.0</td>\n",
       "      <td>71</td>\n",
       "      <td>1</td>\n",
       "    </tr>\n",
       "    <tr>\n",
       "      <th>33</th>\n",
       "      <td>19.0</td>\n",
       "      <td>6</td>\n",
       "      <td>232.0</td>\n",
       "      <td>100.0</td>\n",
       "      <td>2634</td>\n",
       "      <td>13.0</td>\n",
       "      <td>71</td>\n",
       "      <td>1</td>\n",
       "    </tr>\n",
       "  </tbody>\n",
       "</table>\n",
       "</div>"
      ],
      "text/plain": [
       "     mpg  cylinders  displacement  horsepower  weight  acceleration  \\\n",
       "31  25.0          4         113.0        95.0    2228          14.0   \n",
       "32  25.0          4          98.0         NaN    2046          19.0   \n",
       "33  19.0          6         232.0       100.0    2634          13.0   \n",
       "\n",
       "    model year  origin  \n",
       "31          71       3  \n",
       "32          71       1  \n",
       "33          71       1  "
      ]
     },
     "execution_count": 10,
     "metadata": {},
     "output_type": "execute_result"
    }
   ],
   "source": [
    "auto1.iloc[[31,32,33]]"
   ]
  },
  {
   "cell_type": "code",
   "execution_count": 11,
   "id": "d916115b",
   "metadata": {},
   "outputs": [],
   "source": [
    "auto1['horsepower'] = auto1['horsepower'].fillna(auto1['horsepower'].mean())"
   ]
  },
  {
   "cell_type": "code",
   "execution_count": 12,
   "id": "8da937a5",
   "metadata": {},
   "outputs": [
    {
     "data": {
      "text/plain": [
       "mpg             float64\n",
       "cylinders         int64\n",
       "displacement    float64\n",
       "horsepower      float64\n",
       "weight            int64\n",
       "acceleration    float64\n",
       "model year        int64\n",
       "origin            int64\n",
       "dtype: object"
      ]
     },
     "execution_count": 12,
     "metadata": {},
     "output_type": "execute_result"
    }
   ],
   "source": [
    "auto1.dtypes"
   ]
  },
  {
   "cell_type": "code",
   "execution_count": 13,
   "id": "e059133d",
   "metadata": {},
   "outputs": [
    {
     "data": {
      "text/plain": [
       "0"
      ]
     },
     "execution_count": 13,
     "metadata": {},
     "output_type": "execute_result"
    }
   ],
   "source": [
    "auto1['horsepower'].isna().sum()\n",
    "# Here the ? were converted to missing values."
   ]
  },
  {
   "cell_type": "code",
   "execution_count": 14,
   "id": "77b5229e",
   "metadata": {},
   "outputs": [
    {
     "data": {
      "text/html": [
       "<div>\n",
       "<style scoped>\n",
       "    .dataframe tbody tr th:only-of-type {\n",
       "        vertical-align: middle;\n",
       "    }\n",
       "\n",
       "    .dataframe tbody tr th {\n",
       "        vertical-align: top;\n",
       "    }\n",
       "\n",
       "    .dataframe thead th {\n",
       "        text-align: right;\n",
       "    }\n",
       "</style>\n",
       "<table border=\"1\" class=\"dataframe\">\n",
       "  <thead>\n",
       "    <tr style=\"text-align: right;\">\n",
       "      <th></th>\n",
       "      <th>mpg</th>\n",
       "      <th>cylinders</th>\n",
       "      <th>displacement</th>\n",
       "      <th>horsepower</th>\n",
       "      <th>weight</th>\n",
       "      <th>acceleration</th>\n",
       "      <th>model year</th>\n",
       "      <th>origin</th>\n",
       "    </tr>\n",
       "  </thead>\n",
       "  <tbody>\n",
       "    <tr>\n",
       "      <th>0</th>\n",
       "      <td>18.0</td>\n",
       "      <td>8</td>\n",
       "      <td>307.0</td>\n",
       "      <td>130.0</td>\n",
       "      <td>3504</td>\n",
       "      <td>12.0</td>\n",
       "      <td>70</td>\n",
       "      <td>1</td>\n",
       "    </tr>\n",
       "    <tr>\n",
       "      <th>1</th>\n",
       "      <td>15.0</td>\n",
       "      <td>8</td>\n",
       "      <td>350.0</td>\n",
       "      <td>165.0</td>\n",
       "      <td>3693</td>\n",
       "      <td>11.5</td>\n",
       "      <td>70</td>\n",
       "      <td>1</td>\n",
       "    </tr>\n",
       "    <tr>\n",
       "      <th>2</th>\n",
       "      <td>18.0</td>\n",
       "      <td>8</td>\n",
       "      <td>318.0</td>\n",
       "      <td>150.0</td>\n",
       "      <td>3436</td>\n",
       "      <td>11.0</td>\n",
       "      <td>70</td>\n",
       "      <td>1</td>\n",
       "    </tr>\n",
       "    <tr>\n",
       "      <th>3</th>\n",
       "      <td>16.0</td>\n",
       "      <td>8</td>\n",
       "      <td>304.0</td>\n",
       "      <td>150.0</td>\n",
       "      <td>3433</td>\n",
       "      <td>12.0</td>\n",
       "      <td>70</td>\n",
       "      <td>1</td>\n",
       "    </tr>\n",
       "    <tr>\n",
       "      <th>4</th>\n",
       "      <td>17.0</td>\n",
       "      <td>8</td>\n",
       "      <td>302.0</td>\n",
       "      <td>140.0</td>\n",
       "      <td>3449</td>\n",
       "      <td>10.5</td>\n",
       "      <td>70</td>\n",
       "      <td>1</td>\n",
       "    </tr>\n",
       "  </tbody>\n",
       "</table>\n",
       "</div>"
      ],
      "text/plain": [
       "    mpg  cylinders  displacement  horsepower  weight  acceleration  \\\n",
       "0  18.0          8         307.0       130.0    3504          12.0   \n",
       "1  15.0          8         350.0       165.0    3693          11.5   \n",
       "2  18.0          8         318.0       150.0    3436          11.0   \n",
       "3  16.0          8         304.0       150.0    3433          12.0   \n",
       "4  17.0          8         302.0       140.0    3449          10.5   \n",
       "\n",
       "   model year  origin  \n",
       "0          70       1  \n",
       "1          70       1  \n",
       "2          70       1  \n",
       "3          70       1  \n",
       "4          70       1  "
      ]
     },
     "execution_count": 14,
     "metadata": {},
     "output_type": "execute_result"
    }
   ],
   "source": [
    "auto1.head()"
   ]
  },
  {
   "cell_type": "code",
   "execution_count": 15,
   "id": "710b82d1",
   "metadata": {},
   "outputs": [
    {
     "data": {
      "text/html": [
       "<div>\n",
       "<style scoped>\n",
       "    .dataframe tbody tr th:only-of-type {\n",
       "        vertical-align: middle;\n",
       "    }\n",
       "\n",
       "    .dataframe tbody tr th {\n",
       "        vertical-align: top;\n",
       "    }\n",
       "\n",
       "    .dataframe thead th {\n",
       "        text-align: right;\n",
       "    }\n",
       "</style>\n",
       "<table border=\"1\" class=\"dataframe\">\n",
       "  <thead>\n",
       "    <tr style=\"text-align: right;\">\n",
       "      <th></th>\n",
       "      <th>mpg</th>\n",
       "      <th>cylinders</th>\n",
       "      <th>displacement</th>\n",
       "      <th>horsepower</th>\n",
       "      <th>weight</th>\n",
       "      <th>acceleration</th>\n",
       "      <th>model year</th>\n",
       "      <th>origin</th>\n",
       "    </tr>\n",
       "  </thead>\n",
       "  <tbody>\n",
       "    <tr>\n",
       "      <th>31</th>\n",
       "      <td>25.0</td>\n",
       "      <td>4</td>\n",
       "      <td>113.0</td>\n",
       "      <td>95.000000</td>\n",
       "      <td>2228</td>\n",
       "      <td>14.0</td>\n",
       "      <td>71</td>\n",
       "      <td>3</td>\n",
       "    </tr>\n",
       "    <tr>\n",
       "      <th>32</th>\n",
       "      <td>25.0</td>\n",
       "      <td>4</td>\n",
       "      <td>98.0</td>\n",
       "      <td>104.469388</td>\n",
       "      <td>2046</td>\n",
       "      <td>19.0</td>\n",
       "      <td>71</td>\n",
       "      <td>1</td>\n",
       "    </tr>\n",
       "    <tr>\n",
       "      <th>33</th>\n",
       "      <td>19.0</td>\n",
       "      <td>6</td>\n",
       "      <td>232.0</td>\n",
       "      <td>100.000000</td>\n",
       "      <td>2634</td>\n",
       "      <td>13.0</td>\n",
       "      <td>71</td>\n",
       "      <td>1</td>\n",
       "    </tr>\n",
       "  </tbody>\n",
       "</table>\n",
       "</div>"
      ],
      "text/plain": [
       "     mpg  cylinders  displacement  horsepower  weight  acceleration  \\\n",
       "31  25.0          4         113.0   95.000000    2228          14.0   \n",
       "32  25.0          4          98.0  104.469388    2046          19.0   \n",
       "33  19.0          6         232.0  100.000000    2634          13.0   \n",
       "\n",
       "    model year  origin  \n",
       "31          71       3  \n",
       "32          71       1  \n",
       "33          71       1  "
      ]
     },
     "execution_count": 15,
     "metadata": {},
     "output_type": "execute_result"
    }
   ],
   "source": [
    "#varification on missing value has been replaced by mean\n",
    "auto1.iloc[[31,32,33]]"
   ]
  },
  {
   "cell_type": "code",
   "execution_count": 16,
   "id": "a873e246",
   "metadata": {},
   "outputs": [
    {
     "data": {
      "text/plain": [
       "1    249\n",
       "3     79\n",
       "2     70\n",
       "Name: origin, dtype: int64"
      ]
     },
     "execution_count": 16,
     "metadata": {},
     "output_type": "execute_result"
    }
   ],
   "source": [
    "#creating dummy variable for origin column\n",
    "auto1['origin'].value_counts()"
   ]
  },
  {
   "cell_type": "code",
   "execution_count": 17,
   "id": "c8359761",
   "metadata": {},
   "outputs": [],
   "source": [
    "\n",
    "origins = pd.get_dummies(auto1['origin']).rename(columns=lambda x: 'origin' + str(x))\n",
    "auto2 = pd.concat([auto1, origins], axis=1)\n",
    "auto2.drop(['origin'], inplace=True, axis=1)\n"
   ]
  },
  {
   "cell_type": "code",
   "execution_count": 18,
   "id": "051189b9",
   "metadata": {},
   "outputs": [
    {
     "data": {
      "text/html": [
       "<div>\n",
       "<style scoped>\n",
       "    .dataframe tbody tr th:only-of-type {\n",
       "        vertical-align: middle;\n",
       "    }\n",
       "\n",
       "    .dataframe tbody tr th {\n",
       "        vertical-align: top;\n",
       "    }\n",
       "\n",
       "    .dataframe thead th {\n",
       "        text-align: right;\n",
       "    }\n",
       "</style>\n",
       "<table border=\"1\" class=\"dataframe\">\n",
       "  <thead>\n",
       "    <tr style=\"text-align: right;\">\n",
       "      <th></th>\n",
       "      <th>mpg</th>\n",
       "      <th>cylinders</th>\n",
       "      <th>displacement</th>\n",
       "      <th>horsepower</th>\n",
       "      <th>weight</th>\n",
       "      <th>acceleration</th>\n",
       "      <th>model year</th>\n",
       "      <th>origin1</th>\n",
       "      <th>origin2</th>\n",
       "      <th>origin3</th>\n",
       "    </tr>\n",
       "  </thead>\n",
       "  <tbody>\n",
       "    <tr>\n",
       "      <th>0</th>\n",
       "      <td>18.0</td>\n",
       "      <td>8</td>\n",
       "      <td>307.0</td>\n",
       "      <td>130.0</td>\n",
       "      <td>3504</td>\n",
       "      <td>12.0</td>\n",
       "      <td>70</td>\n",
       "      <td>1</td>\n",
       "      <td>0</td>\n",
       "      <td>0</td>\n",
       "    </tr>\n",
       "    <tr>\n",
       "      <th>1</th>\n",
       "      <td>15.0</td>\n",
       "      <td>8</td>\n",
       "      <td>350.0</td>\n",
       "      <td>165.0</td>\n",
       "      <td>3693</td>\n",
       "      <td>11.5</td>\n",
       "      <td>70</td>\n",
       "      <td>1</td>\n",
       "      <td>0</td>\n",
       "      <td>0</td>\n",
       "    </tr>\n",
       "    <tr>\n",
       "      <th>2</th>\n",
       "      <td>18.0</td>\n",
       "      <td>8</td>\n",
       "      <td>318.0</td>\n",
       "      <td>150.0</td>\n",
       "      <td>3436</td>\n",
       "      <td>11.0</td>\n",
       "      <td>70</td>\n",
       "      <td>1</td>\n",
       "      <td>0</td>\n",
       "      <td>0</td>\n",
       "    </tr>\n",
       "    <tr>\n",
       "      <th>3</th>\n",
       "      <td>16.0</td>\n",
       "      <td>8</td>\n",
       "      <td>304.0</td>\n",
       "      <td>150.0</td>\n",
       "      <td>3433</td>\n",
       "      <td>12.0</td>\n",
       "      <td>70</td>\n",
       "      <td>1</td>\n",
       "      <td>0</td>\n",
       "      <td>0</td>\n",
       "    </tr>\n",
       "    <tr>\n",
       "      <th>4</th>\n",
       "      <td>17.0</td>\n",
       "      <td>8</td>\n",
       "      <td>302.0</td>\n",
       "      <td>140.0</td>\n",
       "      <td>3449</td>\n",
       "      <td>10.5</td>\n",
       "      <td>70</td>\n",
       "      <td>1</td>\n",
       "      <td>0</td>\n",
       "      <td>0</td>\n",
       "    </tr>\n",
       "  </tbody>\n",
       "</table>\n",
       "</div>"
      ],
      "text/plain": [
       "    mpg  cylinders  displacement  horsepower  weight  acceleration  \\\n",
       "0  18.0          8         307.0       130.0    3504          12.0   \n",
       "1  15.0          8         350.0       165.0    3693          11.5   \n",
       "2  18.0          8         318.0       150.0    3436          11.0   \n",
       "3  16.0          8         304.0       150.0    3433          12.0   \n",
       "4  17.0          8         302.0       140.0    3449          10.5   \n",
       "\n",
       "   model year  origin1  origin2  origin3  \n",
       "0          70        1        0        0  \n",
       "1          70        1        0        0  \n",
       "2          70        1        0        0  \n",
       "3          70        1        0        0  \n",
       "4          70        1        0        0  "
      ]
     },
     "execution_count": 18,
     "metadata": {},
     "output_type": "execute_result"
    }
   ],
   "source": [
    "auto2.head()"
   ]
  },
  {
   "cell_type": "code",
   "execution_count": 19,
   "id": "beb77042",
   "metadata": {},
   "outputs": [
    {
     "data": {
      "text/plain": [
       "<AxesSubplot:>"
      ]
     },
     "execution_count": 19,
     "metadata": {},
     "output_type": "execute_result"
    },
    {
     "data": {
      "image/png": "[encoded data removed]",
      "text/plain": [
       "<Figure size 640x480 with 2 Axes>"
      ]
     },
     "metadata": {},
     "output_type": "display_data"
    }
   ],
   "source": [
    "#Ploting correlation matrix with heatmap\n",
    "# calculate the correlation matrix\n",
    "import seaborn as sns\n",
    "corr = auto2.corr()\n",
    "\n",
    "# plot the heatmap\n",
    "sns.heatmap(corr, \n",
    "        xticklabels=corr.columns,\n",
    "        yticklabels=corr.columns)"
   ]
  },
  {
   "cell_type": "code",
   "execution_count": 20,
   "id": "c270075e",
   "metadata": {},
   "outputs": [
    {
     "data": {
      "text/html": [
       "<div>\n",
       "<style scoped>\n",
       "    .dataframe tbody tr th:only-of-type {\n",
       "        vertical-align: middle;\n",
       "    }\n",
       "\n",
       "    .dataframe tbody tr th {\n",
       "        vertical-align: top;\n",
       "    }\n",
       "\n",
       "    .dataframe thead th {\n",
       "        text-align: right;\n",
       "    }\n",
       "</style>\n",
       "<table border=\"1\" class=\"dataframe\">\n",
       "  <thead>\n",
       "    <tr style=\"text-align: right;\">\n",
       "      <th></th>\n",
       "      <th>mpg</th>\n",
       "      <th>cylinders</th>\n",
       "      <th>displacement</th>\n",
       "      <th>horsepower</th>\n",
       "      <th>weight</th>\n",
       "      <th>acceleration</th>\n",
       "      <th>model year</th>\n",
       "      <th>origin1</th>\n",
       "      <th>origin2</th>\n",
       "      <th>origin3</th>\n",
       "    </tr>\n",
       "  </thead>\n",
       "  <tbody>\n",
       "    <tr>\n",
       "      <th>mpg</th>\n",
       "      <td>1.000000</td>\n",
       "      <td>-0.775396</td>\n",
       "      <td>-0.804203</td>\n",
       "      <td>-0.771437</td>\n",
       "      <td>-0.831741</td>\n",
       "      <td>0.420289</td>\n",
       "      <td>0.579267</td>\n",
       "      <td>-0.568192</td>\n",
       "      <td>0.259022</td>\n",
       "      <td>0.442174</td>\n",
       "    </tr>\n",
       "    <tr>\n",
       "      <th>cylinders</th>\n",
       "      <td>-0.775396</td>\n",
       "      <td>1.000000</td>\n",
       "      <td>0.950721</td>\n",
       "      <td>0.838939</td>\n",
       "      <td>0.896017</td>\n",
       "      <td>-0.505419</td>\n",
       "      <td>-0.348746</td>\n",
       "      <td>0.604351</td>\n",
       "      <td>-0.352861</td>\n",
       "      <td>-0.396479</td>\n",
       "    </tr>\n",
       "    <tr>\n",
       "      <th>displacement</th>\n",
       "      <td>-0.804203</td>\n",
       "      <td>0.950721</td>\n",
       "      <td>1.000000</td>\n",
       "      <td>0.893646</td>\n",
       "      <td>0.932824</td>\n",
       "      <td>-0.543684</td>\n",
       "      <td>-0.370164</td>\n",
       "      <td>0.651407</td>\n",
       "      <td>-0.373886</td>\n",
       "      <td>-0.433505</td>\n",
       "    </tr>\n",
       "    <tr>\n",
       "      <th>horsepower</th>\n",
       "      <td>-0.771437</td>\n",
       "      <td>0.838939</td>\n",
       "      <td>0.893646</td>\n",
       "      <td>1.000000</td>\n",
       "      <td>0.860574</td>\n",
       "      <td>-0.684259</td>\n",
       "      <td>-0.411651</td>\n",
       "      <td>0.486083</td>\n",
       "      <td>-0.281258</td>\n",
       "      <td>-0.321325</td>\n",
       "    </tr>\n",
       "    <tr>\n",
       "      <th>weight</th>\n",
       "      <td>-0.831741</td>\n",
       "      <td>0.896017</td>\n",
       "      <td>0.932824</td>\n",
       "      <td>0.860574</td>\n",
       "      <td>1.000000</td>\n",
       "      <td>-0.417457</td>\n",
       "      <td>-0.306564</td>\n",
       "      <td>0.598398</td>\n",
       "      <td>-0.298843</td>\n",
       "      <td>-0.440817</td>\n",
       "    </tr>\n",
       "    <tr>\n",
       "      <th>acceleration</th>\n",
       "      <td>0.420289</td>\n",
       "      <td>-0.505419</td>\n",
       "      <td>-0.543684</td>\n",
       "      <td>-0.684259</td>\n",
       "      <td>-0.417457</td>\n",
       "      <td>1.000000</td>\n",
       "      <td>0.288137</td>\n",
       "      <td>-0.250806</td>\n",
       "      <td>0.204473</td>\n",
       "      <td>0.109144</td>\n",
       "    </tr>\n",
       "    <tr>\n",
       "      <th>model year</th>\n",
       "      <td>0.579267</td>\n",
       "      <td>-0.348746</td>\n",
       "      <td>-0.370164</td>\n",
       "      <td>-0.411651</td>\n",
       "      <td>-0.306564</td>\n",
       "      <td>0.288137</td>\n",
       "      <td>1.000000</td>\n",
       "      <td>-0.139883</td>\n",
       "      <td>-0.024489</td>\n",
       "      <td>0.193101</td>\n",
       "    </tr>\n",
       "    <tr>\n",
       "      <th>origin1</th>\n",
       "      <td>-0.568192</td>\n",
       "      <td>0.604351</td>\n",
       "      <td>0.651407</td>\n",
       "      <td>0.486083</td>\n",
       "      <td>0.598398</td>\n",
       "      <td>-0.250806</td>\n",
       "      <td>-0.139883</td>\n",
       "      <td>1.000000</td>\n",
       "      <td>-0.597198</td>\n",
       "      <td>-0.643317</td>\n",
       "    </tr>\n",
       "    <tr>\n",
       "      <th>origin2</th>\n",
       "      <td>0.259022</td>\n",
       "      <td>-0.352861</td>\n",
       "      <td>-0.373886</td>\n",
       "      <td>-0.281258</td>\n",
       "      <td>-0.298843</td>\n",
       "      <td>0.204473</td>\n",
       "      <td>-0.024489</td>\n",
       "      <td>-0.597198</td>\n",
       "      <td>1.000000</td>\n",
       "      <td>-0.229895</td>\n",
       "    </tr>\n",
       "    <tr>\n",
       "      <th>origin3</th>\n",
       "      <td>0.442174</td>\n",
       "      <td>-0.396479</td>\n",
       "      <td>-0.433505</td>\n",
       "      <td>-0.321325</td>\n",
       "      <td>-0.440817</td>\n",
       "      <td>0.109144</td>\n",
       "      <td>0.193101</td>\n",
       "      <td>-0.643317</td>\n",
       "      <td>-0.229895</td>\n",
       "      <td>1.000000</td>\n",
       "    </tr>\n",
       "  </tbody>\n",
       "</table>\n",
       "</div>"
      ],
      "text/plain": [
       "                   mpg  cylinders  displacement  horsepower    weight  \\\n",
       "mpg           1.000000  -0.775396     -0.804203   -0.771437 -0.831741   \n",
       "cylinders    -0.775396   1.000000      0.950721    0.838939  0.896017   \n",
       "displacement -0.804203   0.950721      1.000000    0.893646  0.932824   \n",
       "horsepower   -0.771437   0.838939      0.893646    1.000000  0.860574   \n",
       "weight       -0.831741   0.896017      0.932824    0.860574  1.000000   \n",
       "acceleration  0.420289  -0.505419     -0.543684   -0.684259 -0.417457   \n",
       "model year    0.579267  -0.348746     -0.370164   -0.411651 -0.306564   \n",
       "origin1      -0.568192   0.604351      0.651407    0.486083  0.598398   \n",
       "origin2       0.259022  -0.352861     -0.373886   -0.281258 -0.298843   \n",
       "origin3       0.442174  -0.396479     -0.433505   -0.321325 -0.440817   \n",
       "\n",
       "              acceleration  model year   origin1   origin2   origin3  \n",
       "mpg               0.420289    0.579267 -0.568192  0.259022  0.442174  \n",
       "cylinders        -0.505419   -0.348746  0.604351 -0.352861 -0.396479  \n",
       "displacement     -0.543684   -0.370164  0.651407 -0.373886 -0.433505  \n",
       "horsepower       -0.684259   -0.411651  0.486083 -0.281258 -0.321325  \n",
       "weight           -0.417457   -0.306564  0.598398 -0.298843 -0.440817  \n",
       "acceleration      1.000000    0.288137 -0.250806  0.204473  0.109144  \n",
       "model year        0.288137    1.000000 -0.139883 -0.024489  0.193101  \n",
       "origin1          -0.250806   -0.139883  1.000000 -0.597198 -0.643317  \n",
       "origin2           0.204473   -0.024489 -0.597198  1.000000 -0.229895  \n",
       "origin3           0.109144    0.193101 -0.643317 -0.229895  1.000000  "
      ]
     },
     "execution_count": 20,
     "metadata": {},
     "output_type": "execute_result"
    }
   ],
   "source": [
    "corr"
   ]
  },
  {
   "cell_type": "code",
   "execution_count": 21,
   "id": "e0139ff7",
   "metadata": {},
   "outputs": [],
   "source": [
    "# here from the correlation heat-map we can say, displacement and weight are highly correlated with mpg."
   ]
  },
  {
   "cell_type": "code",
   "execution_count": 22,
   "id": "a0a7cf1e",
   "metadata": {},
   "outputs": [
    {
     "data": {
      "image/png": "[encoded data removed]",
      "text/plain": [
       "<Figure size 640x480 with 1 Axes>"
      ]
     },
     "metadata": {},
     "output_type": "display_data"
    }
   ],
   "source": [
    "#scatter plot for weight and mgp\n",
    "auto2.plot.scatter(x = 'mpg', y = 'weight', s = 100);"
   ]
  },
  {
   "cell_type": "code",
   "execution_count": 23,
   "id": "5fe4a4b6",
   "metadata": {},
   "outputs": [],
   "source": [
    "# The scatter plot clearly shows negative correlation between wight and mpg, i.e if the weight is more then mpg is less \n",
    "#where as less weight shows high mpg "
   ]
  },
  {
   "cell_type": "code",
   "execution_count": 24,
   "id": "49863bcd",
   "metadata": {},
   "outputs": [],
   "source": [
    "# Lets split the data 80-20 for liner regresion where dependent variable is mpg\n",
    "from sklearn.model_selection import train_test_split\n",
    "X = auto2.drop('mpg', axis=1)\n",
    "Y = auto2['mpg']"
   ]
  },
  {
   "cell_type": "code",
   "execution_count": 25,
   "id": "d8d876cd",
   "metadata": {},
   "outputs": [
    {
     "data": {
      "text/plain": [
       "mpg             0\n",
       "cylinders       0\n",
       "displacement    0\n",
       "horsepower      0\n",
       "weight          0\n",
       "acceleration    0\n",
       "model year      0\n",
       "origin1         0\n",
       "origin2         0\n",
       "origin3         0\n",
       "dtype: int64"
      ]
     },
     "execution_count": 25,
     "metadata": {},
     "output_type": "execute_result"
    }
   ],
   "source": [
    "auto2.isna().sum()"
   ]
  },
  {
   "cell_type": "code",
   "execution_count": 26,
   "id": "b763b567",
   "metadata": {},
   "outputs": [
    {
     "data": {
      "text/plain": [
       "((398, 9), (398,))"
      ]
     },
     "execution_count": 26,
     "metadata": {},
     "output_type": "execute_result"
    }
   ],
   "source": [
    "X.shape , Y.shape"
   ]
  },
  {
   "cell_type": "code",
   "execution_count": 27,
   "id": "fc8b6968",
   "metadata": {},
   "outputs": [],
   "source": [
    "x_train, x_test,y_train,y_test = train_test_split(X,Y,test_size =0.2)"
   ]
  },
  {
   "cell_type": "code",
   "execution_count": 28,
   "id": "d84098e0",
   "metadata": {},
   "outputs": [],
   "source": [
    "#Fitting ordinary liner function\n",
    "from sklearn.linear_model import LinearRegression\n",
    "clf = LinearRegression()"
   ]
  },
  {
   "cell_type": "code",
   "execution_count": 29,
   "id": "3ac7a867",
   "metadata": {},
   "outputs": [
    {
     "data": {
      "text/plain": [
       "LinearRegression()"
      ]
     },
     "execution_count": 29,
     "metadata": {},
     "output_type": "execute_result"
    }
   ],
   "source": [
    "clf.fit(x_train,y_train)"
   ]
  },
  {
   "cell_type": "code",
   "execution_count": 30,
   "id": "fcd04e33",
   "metadata": {},
   "outputs": [
    {
     "data": {
      "text/plain": [
       "array([23.74660873, 25.09637937, 28.84001835, 22.34628293, 35.26347495,\n",
       "       27.99183421, 31.80391432, 24.89467473, 29.62166898, 30.89583901,\n",
       "       26.17373604, 15.55775801, 15.54870185, 29.96553413, 16.36162819,\n",
       "       15.51478368, 22.97961125, 26.59854686, 14.75203537, 33.10513222,\n",
       "       15.63426121, 16.23372207, 36.05134587, 33.53228071, 21.33246554,\n",
       "       29.45794386, 31.59476064, 32.55521326, 20.56031572, 12.32316347,\n",
       "       10.1381174 , 21.89669291, 20.30664285, 29.0668208 , 31.10502079,\n",
       "       35.94581303, 25.42907308, 24.92660753, 12.34222413, 17.14589751,\n",
       "       31.7866614 , 23.89637203, 28.03867038, 30.9580916 , 23.9987406 ,\n",
       "       32.84545866, 21.10359216, 16.81634755, 16.6923399 , 28.43848246,\n",
       "       15.72122935, 32.48397203, 12.00524148, 14.09999839, 23.46806924,\n",
       "       16.8645353 , 22.41519099, 10.86093264, 24.74376769, 27.06941921,\n",
       "       27.09832544, 23.59754279, 33.51557817, 23.95017135, 25.89162098,\n",
       "       10.35133182, 29.52539828, 20.22726277, 20.6603126 , 16.28989465,\n",
       "       20.36303044, 23.04788768,  6.72737114, 12.52081629, 17.42825639,\n",
       "       22.65714192, 10.34336413, 22.51927228,  8.51495711, 19.14604976])"
      ]
     },
     "execution_count": 30,
     "metadata": {},
     "output_type": "execute_result"
    }
   ],
   "source": [
    "clf.predict(x_test)"
   ]
  },
  {
   "cell_type": "code",
   "execution_count": 31,
   "id": "b0516ebf",
   "metadata": {},
   "outputs": [
    {
     "data": {
      "text/plain": [
       "0.814018919128679"
      ]
     },
     "execution_count": 31,
     "metadata": {},
     "output_type": "execute_result"
    }
   ],
   "source": [
    "#Lets test the accuracy of the model \n",
    "clf.score(x_test,y_test)"
   ]
  },
  {
   "cell_type": "code",
   "execution_count": 36,
   "id": "702cc9d0",
   "metadata": {},
   "outputs": [
    {
     "name": "stdout",
     "output_type": "stream",
     "text": [
      "====================================================================================================\n",
      "Regression Accuracy on Train Data\n",
      "MAE : 2.501551287171274\n",
      "RMSE : 3.253834222347141\n",
      "R2 : 0.8257071418279452\n",
      "====================================================================================================\n",
      "Regression Accuracy on Test Data\n",
      "MAE : 2.549801483089845\n",
      "RMSE : 3.3701346637939493\n",
      "R2 : 0.814018919128679\n"
     ]
    }
   ],
   "source": [
    "#Calculating and interpreting MAE, RMSE and R2\n",
    "import sklearn.metrics as metrics\n",
    "mae = metrics.mean_absolute_error(y_train, clf.predict(x_train))\n",
    "mse = metrics.mean_squared_error(y_train, clf.predict(x_train))\n",
    "rmse = np.sqrt(mse) #mse**(0.5)  \n",
    "r2 = metrics.r2_score(y_train, clf.predict(x_train))\n",
    "print(\"=\"*100)\n",
    "print(\"Regression Accuracy on Train Data\")\n",
    "print(\"MAE : \"+str(mae))\n",
    "print(\"RMSE : \"+str(rmse))\n",
    "print(\"R2 : \"+str(r2))\n",
    "\n",
    "\n",
    "mae = metrics.mean_absolute_error(y_test, clf.predict(x_test))\n",
    "mse = metrics.mean_squared_error(y_test, clf.predict(x_test))\n",
    "rmse = np.sqrt(mse) #mse**(0.5)  \n",
    "r2 = metrics.r2_score(y_test, clf.predict(x_test))\n",
    "print(\"=\"*100)\n",
    "print(\"Regression Accuracy on Test Data\")\n",
    "print(\"MAE : \"+str(mae))\n",
    "print(\"RMSE : \"+str(rmse))\n",
    "print(\"R2 : \"+str(r2))"
   ]
  },
  {
   "cell_type": "markdown",
   "id": "b42369aa",
   "metadata": {},
   "source": [
    "\n",
    "    MAE (Mean absolute error) represents the difference between the original and predicted values extracted by averaged the absolute difference over the data set. This error is low as 2.5 which implies a good fit.\n",
    "    MSE (Mean Squared Error) represents the difference between the original and predicted values extracted by squared the average difference over the data set. \n",
    "    RMSE (Root Mean Squared Error) is the error rate by the square root of MSE. This error is 3.2 which is quite low.\n",
    "    R-squared (Coefficient of determination) represents the coefficient of how well the values fit compared to the original values. The value from 0 to 1 interpreted as percentages. The higher the value is, the better the model is. This value 0.81 is quite high which represents a good fit.\n"
   ]
  },
  {
   "cell_type": "markdown",
   "id": "9acc3704",
   "metadata": {},
   "source": [
    "# Lasso Regression"
   ]
  },
  {
   "cell_type": "code",
   "execution_count": 45,
   "id": "4274382a",
   "metadata": {},
   "outputs": [
    {
     "data": {
      "text/plain": [
       "Lasso(random_state=9)"
      ]
     },
     "execution_count": 45,
     "metadata": {},
     "output_type": "execute_result"
    }
   ],
   "source": [
    "from sklearn.linear_model import Lasso\n",
    "# Creating an object of the Lasso Regression model class  \n",
    "l_reg = Lasso(random_state=9)\n",
    "l_reg.fit(x_train,y_train)"
   ]
  },
  {
   "cell_type": "code",
   "execution_count": 46,
   "id": "c88f327d",
   "metadata": {},
   "outputs": [
    {
     "name": "stdout",
     "output_type": "stream",
     "text": [
      "====================================================================================================\n",
      "Regression Accuracy on Train Data\n",
      "MAE : 2.6530338875524495\n",
      "RMSE : 3.453425498855223\n",
      "R2 : 0.803668977044101\n",
      "====================================================================================================\n",
      "Regression Accuracy on Test Data\n",
      "MAE : 2.45987738279937\n",
      "RMSE : 3.3485714612946826\n",
      "R2 : 0.8163912385528017\n"
     ]
    }
   ],
   "source": [
    "mae = metrics.mean_absolute_error(y_train, l_reg.predict(x_train))\n",
    "mse = metrics.mean_squared_error(y_train, l_reg.predict(x_train))\n",
    "rmse = np.sqrt(mse) #mse**(0.5)  \n",
    "r2 = metrics.r2_score(y_train, l_reg.predict(x_train))\n",
    "print(\"=\"*100)\n",
    "print(\"Regression Accuracy on Train Data\")\n",
    "print(\"MAE : \"+str(mae))\n",
    "print(\"RMSE : \"+str(rmse))\n",
    "print(\"R2 : \"+str(r2))\n",
    "\n",
    "\n",
    "mae = metrics.mean_absolute_error(y_test, l_reg.predict(x_test))\n",
    "mse = metrics.mean_squared_error(y_test, l_reg.predict(x_test))\n",
    "rmse = np.sqrt(mse) #mse**(0.5)  \n",
    "r2 = metrics.r2_score(y_test, l_reg.predict(x_test))\n",
    "print(\"=\"*100)\n",
    "print(\"Regression Accuracy on Test Data\")\n",
    "print(\"MAE : \"+str(mae))\n",
    "print(\"RMSE : \"+str(rmse))\n",
    "print(\"R2 : \"+str(r2))"
   ]
  },
  {
   "cell_type": "markdown",
   "id": "45434243",
   "metadata": {},
   "source": [
    "# Ridge Regression"
   ]
  },
  {
   "cell_type": "code",
   "execution_count": 47,
   "id": "a9dcca5a",
   "metadata": {},
   "outputs": [
    {
     "data": {
      "text/plain": [
       "Ridge(random_state=9)"
      ]
     },
     "execution_count": 47,
     "metadata": {},
     "output_type": "execute_result"
    }
   ],
   "source": [
    "from sklearn.linear_model import Ridge\n",
    "# Creating an object of the Lasso Regression model class  \n",
    "r_reg = Ridge(random_state=9)\n",
    "r_reg.fit(x_train,y_train)"
   ]
  },
  {
   "cell_type": "code",
   "execution_count": 48,
   "id": "bb4fb45d",
   "metadata": {},
   "outputs": [
    {
     "name": "stdout",
     "output_type": "stream",
     "text": [
      "====================================================================================================\n",
      "Regression Accuracy on Train Data\n",
      "MAE : 2.5018987539891167\n",
      "RMSE : 3.2538881379372038\n",
      "R2 : 0.8257013657622305\n",
      "====================================================================================================\n",
      "Regression Accuracy on Test Data\n",
      "MAE : 2.545521221885981\n",
      "RMSE : 3.3668775103593083\n",
      "R2 : 0.8143782378184384\n"
     ]
    }
   ],
   "source": [
    "mae = metrics.mean_absolute_error(y_train, r_reg.predict(x_train))\n",
    "mse = metrics.mean_squared_error(y_train, r_reg.predict(x_train))\n",
    "rmse = np.sqrt(mse) #mse**(0.5)  \n",
    "r2 = metrics.r2_score(y_train, r_reg.predict(x_train))\n",
    "print(\"=\"*100)\n",
    "print(\"Regression Accuracy on Train Data\")\n",
    "print(\"MAE : \"+str(mae))\n",
    "print(\"RMSE : \"+str(rmse))\n",
    "print(\"R2 : \"+str(r2))\n",
    "\n",
    "\n",
    "mae = metrics.mean_absolute_error(y_test, r_reg.predict(x_test))\n",
    "mse = metrics.mean_squared_error(y_test, r_reg.predict(x_test))\n",
    "rmse = np.sqrt(mse) #mse**(0.5)  \n",
    "r2 = metrics.r2_score(y_test, r_reg.predict(x_test))\n",
    "print(\"=\"*100)\n",
    "print(\"Regression Accuracy on Test Data\")\n",
    "print(\"MAE : \"+str(mae))\n",
    "print(\"RMSE : \"+str(rmse))\n",
    "print(\"R2 : \"+str(r2))"
   ]
  },
  {
   "cell_type": "code",
   "execution_count": null,
   "id": "c8347b02",
   "metadata": {},
   "outputs": [],
   "source": []
  }
 ],
 "metadata": {
  "kernelspec": {
   "display_name": "Python 3 (ipykernel)",
   "language": "python",
   "name": "python3"
  },
  "language_info": {
   "codemirror_mode": {
    "name": "ipython",
    "version": 3
   },
   "file_extension": ".py",
   "mimetype": "text/x-python",
   "name": "python",
   "nbconvert_exporter": "python",
   "pygments_lexer": "ipython3",
   "version": "3.9.13"
  }
 },
 "nbformat": 4,
 "nbformat_minor": 5
}
